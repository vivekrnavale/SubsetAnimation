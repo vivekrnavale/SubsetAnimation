{
 "cells": [
  {
   "cell_type": "code",
   "execution_count": 3,
   "metadata": {},
   "outputs": [
    {
     "name": "stdout",
     "output_type": "stream",
     "text": [
      "Cycle\n",
      "<PIL.JpegImagePlugin.JpegImageFile image mode=RGB size=300x300 at 0x7F9C723268D0>\n",
      "Cycle\n",
      "<PIL.JpegImagePlugin.JpegImageFile image mode=RGB size=300x300 at 0x7F9C723268D0>\n",
      "<PIL.JpegImagePlugin.JpegImageFile image mode=RGB size=300x300 at 0x7F9C72326710>\n",
      "Cycle\n",
      "<PIL.JpegImagePlugin.JpegImageFile image mode=RGB size=300x300 at 0x7F9C72326710>\n",
      "Cycle\n"
     ]
    }
   ],
   "source": [
    "from PIL import Image\n",
    "#from PIL import Image, ImageFile\n",
    "import time\n",
    "import psutil\n",
    "\n",
    "def subsetsUtil(A, subset, index): \n",
    "    for i in subset:\n",
    "        #display(i)\n",
    "        i.show()\n",
    "        print(i)\n",
    "    print(\"Cycle\")\n",
    "    time.sleep(5)\n",
    "    for proc in psutil.process_iter():\n",
    "        if proc.name() == \"display\":\n",
    "            proc.kill()\n",
    "    for i in range(index, len(A)):  \n",
    "          \n",
    "        # include the A[i] in subset.  \n",
    "        subset.append(A[i]) \n",
    "          \n",
    "        # move onto the next element.  \n",
    "        subsetsUtil(A,subset, i + 1)  \n",
    "          \n",
    "        # exclude the A[i] from subset and  \n",
    "        # triggers backtracking. \n",
    "        subset.pop(-1)\n",
    "    return\n",
    "  \n",
    "# below function returns the subsets of vector A.  \n",
    "def subsets(A): \n",
    "    global res \n",
    "    subset = [] \n",
    "      \n",
    "    # keeps track of current element in vector A  \n",
    "    index = 0\n",
    "    subsetsUtil(A, subset, index)  \n",
    "      \n",
    "# Driver Code\n",
    "    \n",
    "img1 = Image.open(\"/home/vivek/Pictures/A.jpg\")\n",
    "img2 = Image.open(\"/home/vivek/Pictures/B.jpg\")\n",
    "img3 = Image.open(\"/home/vivek/Pictures/C.jpg\")\n",
    "img4 = Image.open(\"/home/vivek/Pictures/D.jpg\")\n",
    "img5 = Image.open(\"/home/vivek/Pictures/E.jpg\")\n",
    "#img1.show()\n",
    "#img2.show()\n",
    "array = [img1,img2,img3,img4,img5] \n",
    "\n",
    "  \n",
    "    # res will store all subsets.  \n",
    "    # O(2 ^ (number of elements inside array))  \n",
    "    # because at every step we have two choices  \n",
    "    # either include or ignore.  \n",
    "subsets(array)  \n",
    "#except IOError:\n",
    "#print(\"U\")"
   ]
  },
  {
   "cell_type": "code",
   "execution_count": 53,
   "metadata": {},
   "outputs": [],
   "source": []
  },
  {
   "cell_type": "code",
   "execution_count": null,
   "metadata": {},
   "outputs": [],
   "source": []
  }
 ],
 "metadata": {
  "kernelspec": {
   "display_name": "Python 3",
   "language": "python",
   "name": "python3"
  },
  "language_info": {
   "codemirror_mode": {
    "name": "ipython",
    "version": 3
   },
   "file_extension": ".py",
   "mimetype": "text/x-python",
   "name": "python",
   "nbconvert_exporter": "python",
   "pygments_lexer": "ipython3",
   "version": "3.7.3"
  }
 },
 "nbformat": 4,
 "nbformat_minor": 2
}
